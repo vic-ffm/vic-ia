{
 "cells": [
  {
   "cell_type": "code",
   "execution_count": null,
   "metadata": {
    "application/vnd.databricks.v1+cell": {
     "cellMetadata": {
      "byteLimit": 2048000,
      "rowLimit": 10000
     },
     "inputWidgets": {},
     "nuid": "fe04c6fe-d238-40cf-ab93-a3c96b80be46",
     "showTitle": false,
     "tableResultSettingsMap": {},
     "title": ""
    }
   },
   "outputs": [],
   "source": [
    "# Refresh input files when they change\n",
    "%load_ext autoreload\n",
    "%autoreload 2"
   ]
  },
  {
   "cell_type": "code",
   "execution_count": null,
   "metadata": {
    "application/vnd.databricks.v1+cell": {
     "cellMetadata": {
      "byteLimit": 2048000,
      "rowLimit": 10000
     },
     "inputWidgets": {},
     "nuid": "f6b51cf4-5546-41dd-9b60-d4bb5f0d3720",
     "showTitle": false,
     "tableResultSettingsMap": {},
     "title": ""
    }
   },
   "outputs": [],
   "source": [
    "# Import Python packages\n",
    "from pathlib import Path\n",
    "import pandas as pd\n",
    "import geopandas as gpd\n",
    "import numpy as np\n",
    "import matplotlib.pyplot as plt\n",
    "import seaborn as sns\n",
    "\n",
    "from datetime import datetime as dt\n",
    "from datetime import timedelta\n",
    "\n",
    "import sklearn.metrics\n",
    "# from sklearn.model_selection import cross_val_score, train_test_split\n",
    "# from sklearn.linear_model import LogisticRegression\n",
    "from sklearn.metrics import balanced_accuracy_score, precision_score, recall_score, f1_score, roc_auc_score\n",
    "\n",
    "# import mlflow\n",
    "# mlflow.sklearn.autolog(disable=True)\n",
    "# mlflow.statsmodels.autolog(disable=True)\n",
    "from pathlib import Path\n",
    "\n",
    "import statsmodels.api as sm\n",
    "import statsmodels.formula.api as smf\n",
    "from statsmodels.stats.outliers_influence import variance_inflation_factor\n",
    "import statsmodels.graphics.api as smg\n",
    "from scipy import stats\n",
    "\n",
    "# Import setup file\n",
    "from base_include import *\n",
    "from get_model_data import *\n",
    "from modelling_functions import *\n",
    "\n",
    "# features selected in variable_selection notebook\n",
    "grass_2_hrs_features = ['T_SFC', 'T_SFC_ishistorical', 'RH_SFC', 'WindMagKmh_SFC', 'KBDI', 'ruggedness_average_3km', 'building_density_3km', 'road_density_km_in_3km', 'road_distance_m', 'forest_density_3km', 'shrub_density_3km', 'soil_moisture', 'Curing']\n",
    "grass_100_ha_features = ['T_SFC', 'DF_SFC', 'WindMagKmh_SFC', 'ruggedness_average_3km', 'building_density_20km', 'road_density_km_in_3km', 'road_distance_m', 'noveg_density_3km', 'distance_to_interface', 'Curing']\n",
    "forest_4_hrs_features = ['T_SFC', 'KBDI', 'elevation_m', 'road_density_km_in_3km', 'road_distance_m', 'grass_density_3km', 'shrub_density_3km', 'noveg_density_3km', 'distance_to_interface', 'Curing']\n",
    "forest_5_ha_features = ['soil_moisture']\n",
    "#'RH_SFC', 'DF_SFC', 'WindMagKmh_SFC', 'elevation_m', 'building_density_20km', 'road_density_km_in_3km', 'road_distance_m', 'grass_density_3km']"
   ]
  },
  {
   "cell_type": "code",
   "execution_count": null,
   "metadata": {
    "application/vnd.databricks.v1+cell": {
     "cellMetadata": {
      "byteLimit": 2048000,
      "rowLimit": 10000
     },
     "inputWidgets": {},
     "nuid": "401ea727-2fdb-46bc-8df0-3db49c26ebf7",
     "showTitle": false,
     "tableResultSettingsMap": {},
     "title": ""
    }
   },
   "outputs": [],
   "source": [
    "incidents.shape"
   ]
  },
  {
   "cell_type": "code",
   "execution_count": null,
   "metadata": {
    "application/vnd.databricks.v1+cell": {
     "cellMetadata": {
      "byteLimit": 2048000,
      "rowLimit": 10000
     },
     "inputWidgets": {},
     "nuid": "6a628207-8f0c-4bca-90f4-78a1e1a18872",
     "showTitle": false,
     "tableResultSettingsMap": {},
     "title": ""
    }
   },
   "outputs": [],
   "source": [
    "incidents.columns"
   ]
  },
  {
   "cell_type": "markdown",
   "metadata": {
    "application/vnd.databricks.v1+cell": {
     "cellMetadata": {},
     "inputWidgets": {},
     "nuid": "c3565cbc-5e55-4212-b3ed-f91be79c004d",
     "showTitle": false,
     "tableResultSettingsMap": {},
     "title": ""
    }
   },
   "source": [
    "## Data summary for paper"
   ]
  },
  {
   "cell_type": "code",
   "execution_count": null,
   "metadata": {
    "application/vnd.databricks.v1+cell": {
     "cellMetadata": {
      "byteLimit": 2048000,
      "rowLimit": 10000
     },
     "inputWidgets": {},
     "nuid": "1090afd5-7abb-4f02-bb4b-da99f9c26685",
     "showTitle": false,
     "tableResultSettingsMap": {},
     "title": ""
    }
   },
   "outputs": [],
   "source": [
    "count = incidents.groupby('primary_fuel_type').count().season\n",
    "print(count)\n",
    "print(count/count.sum()*100)"
   ]
  },
  {
   "cell_type": "code",
   "execution_count": null,
   "metadata": {
    "application/vnd.databricks.v1+cell": {
     "cellMetadata": {
      "byteLimit": 2048000,
      "rowLimit": 10000
     },
     "inputWidgets": {},
     "nuid": "37741a75-a963-4c5d-b549-4011c632a72d",
     "showTitle": false,
     "tableResultSettingsMap": {},
     "title": ""
    }
   },
   "outputs": [],
   "source": [
    "count = incidents.query('primary_fuel_type==\"grass\"').groupby('uncontrolled_within_2_hrs').count().season\n",
    "print(count)\n",
    "print(count/count.sum()*100)"
   ]
  },
  {
   "cell_type": "code",
   "execution_count": null,
   "metadata": {
    "application/vnd.databricks.v1+cell": {
     "cellMetadata": {
      "byteLimit": 2048000,
      "rowLimit": 10000
     },
     "inputWidgets": {},
     "nuid": "f1de48c5-a9e4-45e6-a4e5-fe232818a90c",
     "showTitle": false,
     "tableResultSettingsMap": {},
     "title": ""
    }
   },
   "outputs": [],
   "source": [
    "count = incidents.query('primary_fuel_type==\"grass\"').groupby('uncontrolled_within_100_ha').count().season\n",
    "print(count)\n",
    "print(count/count.sum()*100)"
   ]
  },
  {
   "cell_type": "code",
   "execution_count": null,
   "metadata": {
    "application/vnd.databricks.v1+cell": {
     "cellMetadata": {
      "byteLimit": 2048000,
      "rowLimit": 10000
     },
     "inputWidgets": {},
     "nuid": "59664d5e-5a27-4461-972e-d66936fb7a7f",
     "showTitle": false,
     "tableResultSettingsMap": {},
     "title": ""
    }
   },
   "outputs": [],
   "source": [
    "count = incidents.query('primary_fuel_type==\"forest\"').groupby('uncontrolled_within_4_hrs').count().season\n",
    "print(count)\n",
    "print(count/count.sum()*100)"
   ]
  },
  {
   "cell_type": "code",
   "execution_count": null,
   "metadata": {
    "application/vnd.databricks.v1+cell": {
     "cellMetadata": {
      "byteLimit": 2048000,
      "rowLimit": 10000
     },
     "inputWidgets": {},
     "nuid": "22a532bc-baa2-4128-afe0-99adc299d7dc",
     "showTitle": false,
     "tableResultSettingsMap": {},
     "title": ""
    }
   },
   "outputs": [],
   "source": [
    "count = incidents.query('primary_fuel_type==\"forest\"').groupby('uncontrolled_within_5_ha').count().season\n",
    "print(count)\n",
    "print(count/count.sum()*100)"
   ]
  },
  {
   "cell_type": "code",
   "execution_count": null,
   "metadata": {
    "application/vnd.databricks.v1+cell": {
     "cellMetadata": {
      "byteLimit": 2048000,
      "rowLimit": 10000
     },
     "inputWidgets": {},
     "nuid": "e2a40cc4-6fe0-4523-9aca-74a5b18ed887",
     "showTitle": false,
     "tableResultSettingsMap": {},
     "title": ""
    }
   },
   "outputs": [],
   "source": [
    "grass_incidents.groupby('season').is_train_data.unique()"
   ]
  },
  {
   "cell_type": "code",
   "execution_count": null,
   "metadata": {
    "application/vnd.databricks.v1+cell": {
     "cellMetadata": {
      "byteLimit": 2048000,
      "rowLimit": 10000
     },
     "inputWidgets": {},
     "nuid": "3b3a773a-d9d4-46c4-89e8-ede5c1749f6b",
     "showTitle": false,
     "tableResultSettingsMap": {},
     "title": ""
    }
   },
   "outputs": [],
   "source": [
    "forest_incidents.groupby('season').is_train_data.unique()"
   ]
  },
  {
   "cell_type": "code",
   "execution_count": null,
   "metadata": {
    "application/vnd.databricks.v1+cell": {
     "cellMetadata": {
      "byteLimit": 2048000,
      "rowLimit": 10000
     },
     "inputWidgets": {},
     "nuid": "e2eb7cf1-5502-4e9b-8dca-f7dc0cb1d456",
     "showTitle": false,
     "tableResultSettingsMap": {},
     "title": ""
    }
   },
   "outputs": [],
   "source": [
    "grass_incidents.is_train_data.value_counts()/grass_incidents.shape[0]"
   ]
  },
  {
   "cell_type": "code",
   "execution_count": null,
   "metadata": {
    "application/vnd.databricks.v1+cell": {
     "cellMetadata": {
      "byteLimit": 2048000,
      "rowLimit": 10000
     },
     "inputWidgets": {},
     "nuid": "b78bc5d8-37fc-4704-90cb-b7361b1fdf19",
     "showTitle": false,
     "tableResultSettingsMap": {},
     "title": ""
    }
   },
   "outputs": [],
   "source": [
    "forest_incidents.is_train_data.value_counts()/forest_incidents.shape[0]"
   ]
  },
  {
   "cell_type": "markdown",
   "metadata": {
    "application/vnd.databricks.v1+cell": {
     "cellMetadata": {},
     "inputWidgets": {},
     "nuid": "887a5df6-e262-4fc3-88db-725c8e13871a",
     "showTitle": false,
     "tableResultSettingsMap": {},
     "title": ""
    }
   },
   "source": [
    "## Modelling"
   ]
  },
  {
   "cell_type": "markdown",
   "metadata": {
    "application/vnd.databricks.v1+cell": {
     "cellMetadata": {},
     "inputWidgets": {},
     "nuid": "bf77d2b7-5673-4dc8-bfe4-d03cbc904e28",
     "showTitle": false,
     "tableResultSettingsMap": {},
     "title": ""
    }
   },
   "source": [
    "### Grass"
   ]
  },
  {
   "cell_type": "code",
   "execution_count": null,
   "metadata": {
    "application/vnd.databricks.v1+cell": {
     "cellMetadata": {
      "byteLimit": 2048000,
      "rowLimit": 10000
     },
     "inputWidgets": {},
     "nuid": "520f3756-d5d2-4af4-ba07-8686c81cbf2f",
     "showTitle": false,
     "tableResultSettingsMap": {},
     "title": ""
    }
   },
   "outputs": [],
   "source": [
    "grass_fit = {}\n",
    "grass_2_hrs_transform_features = ['WindMagKmh_SFC', 'ruggedness_average_3km', 'building_density_3km', 'road_density_km_in_3km', 'road_distance_m', 'shrub_density_3km', 'soil_moisture']\n",
    "grass_100_ha_transform_features = ['WindMagKmh_SFC', 'ruggedness_average_3km', 'building_density_20km', 'road_density_km_in_3km', 'road_distance_m', 'noveg_density_3km', 'distance_to_interface']\n",
    "grass_fit['uncontrolled_within_2_hrs'] = fit_logistic_regression(grass_incidents, 'uncontrolled_within_2_hrs', model_features=grass_2_hrs_features, \n",
    "                                                                 transform={key: 'np.log1p' for key in grass_2_hrs_transform_features})\n",
    "get_model_diagnostics(rslt = grass_fit['uncontrolled_within_2_hrs'][0], \n",
    "                      incidents_train = grass_fit['uncontrolled_within_2_hrs'][1], \n",
    "                      incidents_test = grass_fit['uncontrolled_within_2_hrs'][2],\n",
    "                      outcome = 'uncontrolled_within_2_hrs',\n",
    "                      print_diagnostics=True, print_confusion_matrix=True)\n",
    "grass_fit['uncontrolled_within_100_ha'] = fit_logistic_regression(grass_incidents, 'uncontrolled_within_100_ha', model_features=grass_100_ha_features,\n",
    "                                                                  transform={key: 'np.log1p' for key in grass_100_ha_transform_features})\n",
    "get_model_diagnostics(rslt = grass_fit['uncontrolled_within_100_ha'][0], \n",
    "                      incidents_train = grass_fit['uncontrolled_within_100_ha'][1], \n",
    "                      incidents_test = grass_fit['uncontrolled_within_100_ha'][2],\n",
    "                      outcome = 'uncontrolled_within_100_ha',\n",
    "                      print_diagnostics=True, print_confusion_matrix=True)"
   ]
  },
  {
   "cell_type": "markdown",
   "metadata": {
    "application/vnd.databricks.v1+cell": {
     "cellMetadata": {},
     "inputWidgets": {},
     "nuid": "80adad3c-fb34-4e27-9c14-921bf472af83",
     "showTitle": false,
     "tableResultSettingsMap": {},
     "title": ""
    }
   },
   "source": [
    "#### Paper plots and model summary"
   ]
  },
  {
   "cell_type": "code",
   "execution_count": null,
   "metadata": {
    "application/vnd.databricks.v1+cell": {
     "cellMetadata": {
      "byteLimit": 2048000,
      "rowLimit": 10000
     },
     "inputWidgets": {},
     "nuid": "38ff953f-f915-416d-ad3b-35b937742c04",
     "showTitle": false,
     "tableResultSettingsMap": {},
     "title": ""
    }
   },
   "outputs": [],
   "source": [
    "outcome = 'uncontrolled_within_2_hrs'\n",
    "get_model_diagnostics(rslt = grass_fit[outcome][0], \n",
    "                      incidents_train = grass_fit[outcome][1], \n",
    "                      incidents_test = grass_fit[outcome][2],\n",
    "                      outcome = outcome,\n",
    "                      print_density=True,\n",
    "                      model_name_text='Grass: ')"
   ]
  },
  {
   "cell_type": "code",
   "execution_count": null,
   "metadata": {
    "application/vnd.databricks.v1+cell": {
     "cellMetadata": {
      "byteLimit": 2048000,
      "rowLimit": 10000
     },
     "inputWidgets": {},
     "nuid": "d11542a6-ba42-4a21-bcb3-20706c696a58",
     "showTitle": false,
     "tableResultSettingsMap": {},
     "title": ""
    }
   },
   "outputs": [],
   "source": [
    "outcome = 'uncontrolled_within_100_ha'\n",
    "get_model_diagnostics(rslt = grass_fit[outcome][0], \n",
    "                      incidents_train = grass_fit[outcome][1], \n",
    "                      incidents_test = grass_fit[outcome][2],\n",
    "                      outcome = outcome,\n",
    "                      print_density=True,\n",
    "                      model_name_text='Grass: ')"
   ]
  },
  {
   "cell_type": "code",
   "execution_count": null,
   "metadata": {
    "application/vnd.databricks.v1+cell": {
     "cellMetadata": {
      "byteLimit": 2048000,
      "rowLimit": 10000
     },
     "inputWidgets": {},
     "nuid": "a4cb866a-91d6-43fd-9820-8ef5795ba494",
     "showTitle": false,
     "tableResultSettingsMap": {},
     "title": ""
    }
   },
   "outputs": [],
   "source": [
    "outcome = 'uncontrolled_within_2_hrs'\n",
    "get_model_diagnostics(rslt = grass_fit[outcome][0], \n",
    "                      incidents_train = grass_fit[outcome][1], \n",
    "                      incidents_test = grass_fit[outcome][2],\n",
    "                      outcome = outcome,\n",
    "                      print_appendix_diagnostics=True)"
   ]
  },
  {
   "cell_type": "code",
   "execution_count": null,
   "metadata": {
    "application/vnd.databricks.v1+cell": {
     "cellMetadata": {
      "byteLimit": 2048000,
      "rowLimit": 10000
     },
     "inputWidgets": {},
     "nuid": "c141c494-9172-47d5-a13d-c4694c1a824b",
     "showTitle": false,
     "tableResultSettingsMap": {},
     "title": ""
    }
   },
   "outputs": [],
   "source": [
    "outcome = 'uncontrolled_within_100_ha'\n",
    "get_model_diagnostics(rslt = grass_fit[outcome][0], \n",
    "                      incidents_train = grass_fit[outcome][1], \n",
    "                      incidents_test = grass_fit[outcome][2],\n",
    "                      outcome = outcome,\n",
    "                      print_appendix_diagnostics=True)"
   ]
  },
  {
   "cell_type": "code",
   "execution_count": null,
   "metadata": {
    "application/vnd.databricks.v1+cell": {
     "cellMetadata": {
      "byteLimit": 2048000,
      "rowLimit": 10000
     },
     "inputWidgets": {},
     "nuid": "57035bcd-8c6e-40f8-b6a6-c6e2c317ebec",
     "showTitle": false,
     "tableResultSettingsMap": {},
     "title": ""
    }
   },
   "outputs": [],
   "source": [
    "for outcome in ['uncontrolled_within_2_hrs', 'uncontrolled_within_100_ha']:\n",
    "    print(grass_fit[outcome][0].summary())"
   ]
  },
  {
   "cell_type": "markdown",
   "metadata": {
    "application/vnd.databricks.v1+cell": {
     "cellMetadata": {},
     "inputWidgets": {},
     "nuid": "d17047cd-0657-4a14-a7ea-b942eeba1db2",
     "showTitle": false,
     "tableResultSettingsMap": {},
     "title": ""
    }
   },
   "source": [
    "#### Comparison with GFDI"
   ]
  },
  {
   "cell_type": "code",
   "execution_count": null,
   "metadata": {
    "application/vnd.databricks.v1+cell": {
     "cellMetadata": {
      "byteLimit": 2048000,
      "rowLimit": 10000
     },
     "inputWidgets": {},
     "nuid": "eb597a27-6b28-4fc6-93cc-08c59d8f4298",
     "showTitle": false,
     "tableResultSettingsMap": {},
     "title": ""
    }
   },
   "outputs": [],
   "source": [
    "grass_fit_fdi = {}\n",
    "for outcome in ['uncontrolled_within_2_hrs', 'uncontrolled_within_100_ha']:\n",
    "    grass_fit_fdi[outcome] = fit_logistic_regression(grass_incidents.dropna(subset='GFDI'), outcome, model_features=['GFDI'])\n",
    "    get_model_diagnostics(rslt = grass_fit_fdi[outcome][0], \n",
    "                          incidents_train = grass_fit_fdi[outcome][1], \n",
    "                          incidents_test = grass_fit_fdi[outcome][2],\n",
    "                          outcome = outcome,\n",
    "                          print_diagnostics=True, print_confusion_matrix=True)"
   ]
  },
  {
   "cell_type": "code",
   "execution_count": null,
   "metadata": {
    "application/vnd.databricks.v1+cell": {
     "cellMetadata": {
      "byteLimit": 2048000,
      "rowLimit": 10000
     },
     "inputWidgets": {},
     "nuid": "bf027914-d710-43ad-828f-c1671a83aac3",
     "showTitle": false,
     "tableResultSettingsMap": {},
     "title": ""
    }
   },
   "outputs": [],
   "source": [
    "outcome = 'uncontrolled_within_2_hrs'\n",
    "get_model_diagnostics(rslt = grass_fit_fdi[outcome][0], \n",
    "                      incidents_train = grass_fit_fdi[outcome][1], \n",
    "                      incidents_test = grass_fit_fdi[outcome][2],\n",
    "                      outcome = outcome,\n",
    "                      print_density=True,\n",
    "                      model_name_text='GFDI: ')"
   ]
  },
  {
   "cell_type": "code",
   "execution_count": null,
   "metadata": {
    "application/vnd.databricks.v1+cell": {
     "cellMetadata": {
      "byteLimit": 2048000,
      "rowLimit": 10000
     },
     "inputWidgets": {},
     "nuid": "d0579680-4fd7-44cd-a0de-fea124c87c30",
     "showTitle": false,
     "tableResultSettingsMap": {},
     "title": ""
    }
   },
   "outputs": [],
   "source": [
    "outcome = 'uncontrolled_within_100_ha'\n",
    "get_model_diagnostics(rslt = grass_fit_fdi[outcome][0], \n",
    "                      incidents_train = grass_fit_fdi[outcome][1], \n",
    "                      incidents_test = grass_fit_fdi[outcome][2],\n",
    "                      outcome = outcome,\n",
    "                      print_density=True,\n",
    "                      model_name_text='GFDI: ')"
   ]
  },
  {
   "cell_type": "markdown",
   "metadata": {
    "application/vnd.databricks.v1+cell": {
     "cellMetadata": {},
     "inputWidgets": {},
     "nuid": "df2a8db9-d546-4b20-9368-7a7cbf663b7e",
     "showTitle": false,
     "tableResultSettingsMap": {},
     "title": ""
    }
   },
   "source": [
    "### Forest"
   ]
  },
  {
   "cell_type": "code",
   "execution_count": null,
   "metadata": {
    "application/vnd.databricks.v1+cell": {
     "cellMetadata": {
      "byteLimit": 2048000,
      "rowLimit": 10000
     },
     "inputWidgets": {},
     "nuid": "42429d46-4067-48f7-a5e7-cacb512d03fa",
     "showTitle": false,
     "tableResultSettingsMap": {},
     "title": ""
    }
   },
   "outputs": [],
   "source": [
    "forest_fit = {}\n",
    "forest_4_hrs_transform_features = ['road_density_km_in_3km', 'road_distance_m', 'noveg_density_3km', 'distance_to_interface']\n",
    "forest_5_ha_transform_features = ['WindMagKmh_SFC', 'building_density_20km', 'road_density_km_in_3km', 'road_distance_m']\n",
    "forest_fit['uncontrolled_within_4_hrs'] = fit_logistic_regression(forest_incidents, 'uncontrolled_within_4_hrs', model_features=forest_4_hrs_features, \n",
    "                                                                  transform={key: 'np.log1p' for key in forest_4_hrs_transform_features})\n",
    "get_model_diagnostics(rslt = forest_fit['uncontrolled_within_4_hrs'][0], \n",
    "                      incidents_train = forest_fit['uncontrolled_within_4_hrs'][1], \n",
    "                      incidents_test = forest_fit['uncontrolled_within_4_hrs'][2],\n",
    "                      outcome = 'uncontrolled_within_4_hrs',\n",
    "                      print_diagnostics=True, print_confusion_matrix=True)\n",
    "forest_fit['uncontrolled_within_5_ha'] = fit_logistic_regression(forest_incidents, 'uncontrolled_within_5_ha', model_features=forest_5_ha_features, \n",
    "                                                                 transform={key: 'np.log1p' for key in forest_5_ha_transform_features})\n",
    "get_model_diagnostics(rslt = forest_fit['uncontrolled_within_5_ha'][0], \n",
    "                      incidents_train = forest_fit['uncontrolled_within_5_ha'][1], \n",
    "                      incidents_test = forest_fit['uncontrolled_within_5_ha'][2],\n",
    "                      outcome = 'uncontrolled_within_5_ha',\n",
    "                      print_diagnostics=True, print_confusion_matrix=True)"
   ]
  },
  {
   "cell_type": "markdown",
   "metadata": {
    "application/vnd.databricks.v1+cell": {
     "cellMetadata": {},
     "inputWidgets": {},
     "nuid": "a3e62ce8-59c8-4f5d-933c-2709ecd74554",
     "showTitle": false,
     "tableResultSettingsMap": {},
     "title": ""
    }
   },
   "source": [
    "#### Paper plots and model summary"
   ]
  },
  {
   "cell_type": "code",
   "execution_count": null,
   "metadata": {
    "application/vnd.databricks.v1+cell": {
     "cellMetadata": {
      "byteLimit": 2048000,
      "rowLimit": 10000
     },
     "inputWidgets": {},
     "nuid": "deb07d37-8e03-4ae7-b215-e46524f63638",
     "showTitle": false,
     "tableResultSettingsMap": {},
     "title": ""
    }
   },
   "outputs": [],
   "source": [
    "outcome = 'uncontrolled_within_4_hrs'\n",
    "get_model_diagnostics(rslt = forest_fit[outcome][0], \n",
    "                      incidents_train = forest_fit[outcome][1], \n",
    "                      incidents_test = forest_fit[outcome][2],\n",
    "                      outcome = outcome,\n",
    "                      print_density=True,\n",
    "                      model_name_text='Forest: ')"
   ]
  },
  {
   "cell_type": "code",
   "execution_count": null,
   "metadata": {
    "application/vnd.databricks.v1+cell": {
     "cellMetadata": {
      "byteLimit": 2048000,
      "rowLimit": 10000
     },
     "inputWidgets": {},
     "nuid": "f01ef9dd-8559-4cdb-9e39-c3bdac86b9a2",
     "showTitle": false,
     "tableResultSettingsMap": {},
     "title": ""
    }
   },
   "outputs": [],
   "source": [
    "outcome = 'uncontrolled_within_5_ha'\n",
    "get_model_diagnostics(rslt = forest_fit[outcome][0], \n",
    "                      incidents_train = forest_fit[outcome][1], \n",
    "                      incidents_test = forest_fit[outcome][2],\n",
    "                      outcome = outcome,\n",
    "                      print_density=True,\n",
    "                      model_name_text='Forest: ')"
   ]
  },
  {
   "cell_type": "code",
   "execution_count": null,
   "metadata": {
    "application/vnd.databricks.v1+cell": {
     "cellMetadata": {
      "byteLimit": 2048000,
      "rowLimit": 10000
     },
     "inputWidgets": {},
     "nuid": "1ca30846-30a1-42c4-ae02-955d45e1d920",
     "showTitle": false,
     "tableResultSettingsMap": {},
     "title": ""
    }
   },
   "outputs": [],
   "source": [
    "outcome = 'uncontrolled_within_4_hrs'\n",
    "get_model_diagnostics(rslt = forest_fit[outcome][0], \n",
    "                      incidents_train = forest_fit[outcome][1], \n",
    "                      incidents_test = forest_fit[outcome][2],\n",
    "                      outcome = outcome,\n",
    "                      print_appendix_diagnostics=True)"
   ]
  },
  {
   "cell_type": "code",
   "execution_count": null,
   "metadata": {
    "application/vnd.databricks.v1+cell": {
     "cellMetadata": {
      "byteLimit": 2048000,
      "rowLimit": 10000
     },
     "inputWidgets": {},
     "nuid": "fa9d941a-45e0-484f-a5f3-fb6c4e984fd4",
     "showTitle": false,
     "tableResultSettingsMap": {},
     "title": ""
    }
   },
   "outputs": [],
   "source": [
    "outcome = 'uncontrolled_within_5_ha'\n",
    "get_model_diagnostics(rslt = forest_fit[outcome][0], \n",
    "                      incidents_train = forest_fit[outcome][1], \n",
    "                      incidents_test = forest_fit[outcome][2],\n",
    "                      outcome = outcome,\n",
    "                      print_appendix_diagnostics=True)"
   ]
  },
  {
   "cell_type": "code",
   "execution_count": null,
   "metadata": {
    "application/vnd.databricks.v1+cell": {
     "cellMetadata": {
      "byteLimit": 2048000,
      "rowLimit": 10000
     },
     "inputWidgets": {},
     "nuid": "280eca7a-b5a3-451d-8f2e-936631056628",
     "showTitle": false,
     "tableResultSettingsMap": {},
     "title": ""
    }
   },
   "outputs": [],
   "source": [
    "for outcome in ['uncontrolled_within_4_hrs', 'uncontrolled_within_5_ha']:\n",
    "    print(forest_fit[outcome][0].summary())"
   ]
  },
  {
   "cell_type": "markdown",
   "metadata": {
    "application/vnd.databricks.v1+cell": {
     "cellMetadata": {},
     "inputWidgets": {},
     "nuid": "14445593-9b06-49ae-baf4-b31af08a1504",
     "showTitle": false,
     "tableResultSettingsMap": {},
     "title": ""
    }
   },
   "source": [
    "#### Comparison with FFDI"
   ]
  },
  {
   "cell_type": "code",
   "execution_count": null,
   "metadata": {
    "application/vnd.databricks.v1+cell": {
     "cellMetadata": {
      "byteLimit": 2048000,
      "rowLimit": 10000
     },
     "inputWidgets": {},
     "nuid": "980f8ff4-0a14-4644-9be2-b31ef4f8cda3",
     "showTitle": false,
     "tableResultSettingsMap": {},
     "title": ""
    }
   },
   "outputs": [],
   "source": [
    "forest_fit_fdi = {}\n",
    "for outcome in ['uncontrolled_within_4_hrs', 'uncontrolled_within_5_ha']:\n",
    "    forest_fit_fdi[outcome] = fit_logistic_regression(forest_incidents, outcome, model_features=['FFDI'])\n",
    "    get_model_diagnostics(rslt = forest_fit_fdi[outcome][0], \n",
    "                          incidents_train = forest_fit_fdi[outcome][1], \n",
    "                          incidents_test = forest_fit_fdi[outcome][2],\n",
    "                          outcome = outcome,\n",
    "                          print_diagnostics=True, print_confusion_matrix=True)"
   ]
  },
  {
   "cell_type": "code",
   "execution_count": null,
   "metadata": {
    "application/vnd.databricks.v1+cell": {
     "cellMetadata": {
      "byteLimit": 2048000,
      "rowLimit": 10000
     },
     "inputWidgets": {},
     "nuid": "4e200f1b-4944-4fe7-ada9-cdeff245a362",
     "showTitle": false,
     "tableResultSettingsMap": {},
     "title": ""
    }
   },
   "outputs": [],
   "source": [
    "outcome = 'uncontrolled_within_4_hrs'\n",
    "get_model_diagnostics(rslt = forest_fit_fdi[outcome][0], \n",
    "                      incidents_train = forest_fit_fdi[outcome][1], \n",
    "                      incidents_test = forest_fit_fdi[outcome][2],\n",
    "                      outcome = outcome,\n",
    "                      print_density=True,\n",
    "                      model_name_text='FFDI: ')"
   ]
  },
  {
   "cell_type": "code",
   "execution_count": null,
   "metadata": {
    "application/vnd.databricks.v1+cell": {
     "cellMetadata": {
      "byteLimit": 2048000,
      "rowLimit": 10000
     },
     "inputWidgets": {},
     "nuid": "e82e9eaa-4665-42bd-b04a-4fcb6461b129",
     "showTitle": false,
     "tableResultSettingsMap": {},
     "title": ""
    }
   },
   "outputs": [],
   "source": [
    "outcome = 'uncontrolled_within_5_ha'\n",
    "get_model_diagnostics(rslt = forest_fit_fdi[outcome][0], \n",
    "                      incidents_train = forest_fit_fdi[outcome][1], \n",
    "                      incidents_test = forest_fit_fdi[outcome][2],\n",
    "                      outcome = outcome,\n",
    "                      print_density=True,\n",
    "                      model_name_text='FFDI: ')"
   ]
  },
  {
   "cell_type": "markdown",
   "metadata": {
    "application/vnd.databricks.v1+cell": {
     "cellMetadata": {},
     "inputWidgets": {},
     "nuid": "821a4d08-3c1d-496f-97fd-ecef3c74d88f",
     "showTitle": false,
     "tableResultSettingsMap": {},
     "title": ""
    }
   },
   "source": [
    "## Model testing"
   ]
  },
  {
   "cell_type": "markdown",
   "metadata": {
    "application/vnd.databricks.v1+cell": {
     "cellMetadata": {},
     "inputWidgets": {},
     "nuid": "05c311c2-fa25-48c0-8394-951e86e28bc9",
     "showTitle": false,
     "tableResultSettingsMap": {},
     "title": ""
    }
   },
   "source": [
    "### Colinearity"
   ]
  },
  {
   "cell_type": "markdown",
   "metadata": {
    "application/vnd.databricks.v1+cell": {
     "cellMetadata": {},
     "inputWidgets": {},
     "nuid": "72115a75-a8a5-426c-843e-6f28c292c577",
     "showTitle": false,
     "tableResultSettingsMap": {},
     "title": ""
    }
   },
   "source": [
    "VIF exceeding 5 or 10 suggests a problematic amount of collinearity (from ISLP). All the VIF scores are less than 5, so don't have collinearity issues."
   ]
  },
  {
   "cell_type": "code",
   "execution_count": null,
   "metadata": {
    "application/vnd.databricks.v1+cell": {
     "cellMetadata": {
      "byteLimit": 2048000,
      "rowLimit": 10000
     },
     "inputWidgets": {},
     "nuid": "e839e6f1-b749-4c92-a75c-081def2d38d6",
     "showTitle": false,
     "tableResultSettingsMap": {},
     "title": ""
    }
   },
   "outputs": [],
   "source": [
    "compute_vif(grass_incidents, grass_features)"
   ]
  },
  {
   "cell_type": "code",
   "execution_count": null,
   "metadata": {
    "application/vnd.databricks.v1+cell": {
     "cellMetadata": {
      "byteLimit": 2048000,
      "rowLimit": 10000
     },
     "inputWidgets": {},
     "nuid": "ea70ead0-2c6d-4b63-a4a9-39beb6aa70e4",
     "showTitle": false,
     "tableResultSettingsMap": {},
     "title": ""
    }
   },
   "outputs": [],
   "source": [
    "compute_vif(forest_incidents, forest_features)"
   ]
  },
  {
   "cell_type": "markdown",
   "metadata": {
    "application/vnd.databricks.v1+cell": {
     "cellMetadata": {},
     "inputWidgets": {},
     "nuid": "b4746111-e20c-4736-9250-6ecd39dd35b6",
     "showTitle": false,
     "tableResultSettingsMap": {},
     "title": ""
    }
   },
   "source": [
    "### Residuals"
   ]
  },
  {
   "cell_type": "markdown",
   "metadata": {
    "application/vnd.databricks.v1+cell": {
     "cellMetadata": {},
     "inputWidgets": {},
     "nuid": "ccee2578-4d02-4acb-89ef-8666cbcf6361",
     "showTitle": false,
     "tableResultSettingsMap": {},
     "title": ""
    }
   },
   "source": [
    "- Residuals look pretty flat and even above/below. 100 ha outcome possibly exhibiting cone-like structure, but I think that's more skewing than cone."
   ]
  },
  {
   "cell_type": "code",
   "execution_count": null,
   "metadata": {
    "application/vnd.databricks.v1+cell": {
     "cellMetadata": {
      "byteLimit": 2048000,
      "rowLimit": 10000
     },
     "inputWidgets": {},
     "nuid": "adc916ae-6f10-462b-aac9-e318a731a671",
     "showTitle": false,
     "tableResultSettingsMap": {},
     "title": ""
    }
   },
   "outputs": [],
   "source": [
    "outcome = 'uncontrolled_within_2_hrs'\n",
    "features = [x for x in grass_2_hrs_features if x != 'T_SFC_ishistorical']\n",
    "plot_quantile_residuals(grass_fit[outcome][2], outcome, outcome + '_p', features, log_transform=grass_2_hrs_transform_features, model_name_text='Grass: ')"
   ]
  },
  {
   "cell_type": "code",
   "execution_count": null,
   "metadata": {
    "application/vnd.databricks.v1+cell": {
     "cellMetadata": {
      "byteLimit": 2048000,
      "rowLimit": 10000
     },
     "inputWidgets": {},
     "nuid": "db1e42d6-67fe-4f66-ad8a-2c881f97652e",
     "showTitle": false,
     "tableResultSettingsMap": {},
     "title": ""
    }
   },
   "outputs": [],
   "source": [
    "outcome = 'uncontrolled_within_100_ha'\n",
    "plot_quantile_residuals(grass_fit[outcome][2], outcome, outcome + '_p', grass_100_ha_features, log_transform=grass_100_ha_transform_features, model_name_text='Grass: ')"
   ]
  },
  {
   "cell_type": "code",
   "execution_count": null,
   "metadata": {
    "application/vnd.databricks.v1+cell": {
     "cellMetadata": {
      "byteLimit": 2048000,
      "rowLimit": 10000
     },
     "inputWidgets": {},
     "nuid": "f60f55ad-a644-484c-b80a-b965e32b8673",
     "showTitle": false,
     "tableResultSettingsMap": {},
     "title": ""
    }
   },
   "outputs": [],
   "source": [
    "outcome = 'uncontrolled_within_4_hrs'\n",
    "plot_quantile_residuals(forest_fit[outcome][2], outcome, outcome + '_p', forest_4_hrs_features, log_transform=forest_4_hrs_transform_features, model_name_text='Forest: ')"
   ]
  },
  {
   "cell_type": "code",
   "execution_count": null,
   "metadata": {
    "application/vnd.databricks.v1+cell": {
     "cellMetadata": {
      "byteLimit": 2048000,
      "rowLimit": 10000
     },
     "inputWidgets": {},
     "nuid": "5f0955ad-333d-437c-9fd9-0186f5fdc93b",
     "showTitle": false,
     "tableResultSettingsMap": {},
     "title": ""
    }
   },
   "outputs": [],
   "source": [
    "outcome = 'uncontrolled_within_5_ha'\n",
    "plot_quantile_residuals(forest_fit[outcome][2], outcome, outcome + '_p', forest_5_ha_features, log_transform=forest_5_ha_transform_features, model_name_text='Forest: ')"
   ]
  },
  {
   "cell_type": "markdown",
   "metadata": {
    "application/vnd.databricks.v1+cell": {
     "cellMetadata": {},
     "inputWidgets": {},
     "nuid": "e77052ca-ce87-40af-b929-4d7f9a22fe91",
     "showTitle": false,
     "tableResultSettingsMap": {},
     "title": ""
    }
   },
   "source": []
  }
 ],
 "metadata": {
  "application/vnd.databricks.v1+notebook": {
   "computePreferences": null,
   "dashboards": [],
   "environmentMetadata": null,
   "language": "python",
   "notebookMetadata": {
    "pythonIndentUnit": 2
   },
   "notebookName": "logistic_regression",
   "widgets": {}
  },
  "kernelspec": {
   "display_name": ".venv",
   "language": "python",
   "name": "python3"
  },
  "language_info": {
   "codemirror_mode": {
    "name": "ipython",
    "version": 3
   },
   "file_extension": ".py",
   "mimetype": "text/x-python",
   "name": "python",
   "nbconvert_exporter": "python",
   "pygments_lexer": "ipython3",
   "version": "3.10.0"
  }
 },
 "nbformat": 4,
 "nbformat_minor": 4
}
