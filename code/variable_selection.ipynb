{
 "cells": [
  {
   "cell_type": "code",
   "execution_count": 2,
   "id": "8cef1608-cf9c-4ebc-8b83-aea37a0659b8",
   "metadata": {},
   "outputs": [],
   "source": [
    "library(tidyverse)\n",
    "library(glmnet)\n",
    "library(reticulate)\n",
    "source(file.path('rconfig.R'))"
   ]
  },
  {
   "cell_type": "code",
   "execution_count": 3,
   "id": "efc608de-4d01-409f-b635-7889681ecb94",
   "metadata": {},
   "outputs": [],
   "source": [
    "use_python(python = PYTHON_EXE_FOR_RETICULATE, required=TRUE)\n",
    "source_python(file.path(HOME_DIRECTORY, 'vic-ia', 'code', 'get_model_data.py'))"
   ]
  },
  {
   "cell_type": "code",
   "execution_count": 4,
   "id": "c07a264e-8cb9-45d2-80bf-e9ccd004e091",
   "metadata": {},
   "outputs": [],
   "source": [
    "fit_adaptive_lasso = function(X_df, y_vec){\n",
    "  X_df = scale(X_df)\n",
    "  mod_glm = glm(y_vec ~ X_df, family=binomial(link='logit'))\n",
    "  alasso_weights = 1/abs(mod_glm$coefficients[-1])\n",
    "  mod_al = glmnet(scale(X_df),\n",
    "                        y_vec,\n",
    "                        family=binomial(link='logit'),\n",
    "                        penalty.factor=alasso_weights,\n",
    "                        standardize=FALSE\n",
    "                  )\n",
    "  bic = deviance(mod_al) + log(nrow(X_df))*mod_al$df\n",
    "  plot(bic)\n",
    "  best_lambda = mod_al$lambda[which.min(bic)]\n",
    "  mod_al_best = glmnet(X_df,\n",
    "                       y_vec,\n",
    "                       family=binomial(link='logit'),\n",
    "                       penalty.factor=alasso_weights,\n",
    "                       standardize=FALSE,\n",
    "                       lambda = best_lambda)\n",
    "  coeff_best = mod_al_best$beta\n",
    "  selected_vars = coeff_best@Dimnames[[1]][coeff_best@i + 1]\n",
    "  return(selected_vars)\n",
    "}"
   ]
  },
  {
   "cell_type": "code",
   "execution_count": 5,
   "id": "269a7637-1cfd-4995-9438-f9c7687e2c10",
   "metadata": {},
   "outputs": [
    {
     "data": {
      "text/html": [
       "<style>\n",
       ".list-inline {list-style: none; margin:0; padding: 0}\n",
       ".list-inline>li {display: inline-block}\n",
       ".list-inline>li:not(:last-child)::after {content: \"\\00b7\"; padding: 0 .5ex}\n",
       "</style>\n",
       "<ol class=list-inline><li>'T_SFC'</li><li>'T_SFC_ishistorical'</li><li>'RH_SFC'</li><li>'WindMagKmh_SFC'</li><li>'KBDI'</li><li>'ruggedness_average_3km'</li><li>'building_density_3km'</li><li>'road_density_km_in_3km'</li><li>'road_distance_m'</li><li>'forest_density_3km'</li><li>'shrub_density_3km'</li><li>'Curing'</li></ol>\n"
      ],
      "text/latex": [
       "\\begin{enumerate*}\n",
       "\\item 'T\\_SFC'\n",
       "\\item 'T\\_SFC\\_ishistorical'\n",
       "\\item 'RH\\_SFC'\n",
       "\\item 'WindMagKmh\\_SFC'\n",
       "\\item 'KBDI'\n",
       "\\item 'ruggedness\\_average\\_3km'\n",
       "\\item 'building\\_density\\_3km'\n",
       "\\item 'road\\_density\\_km\\_in\\_3km'\n",
       "\\item 'road\\_distance\\_m'\n",
       "\\item 'forest\\_density\\_3km'\n",
       "\\item 'shrub\\_density\\_3km'\n",
       "\\item 'Curing'\n",
       "\\end{enumerate*}\n"
      ],
      "text/markdown": [
       "1. 'T_SFC'\n",
       "2. 'T_SFC_ishistorical'\n",
       "3. 'RH_SFC'\n",
       "4. 'WindMagKmh_SFC'\n",
       "5. 'KBDI'\n",
       "6. 'ruggedness_average_3km'\n",
       "7. 'building_density_3km'\n",
       "8. 'road_density_km_in_3km'\n",
       "9. 'road_distance_m'\n",
       "10. 'forest_density_3km'\n",
       "11. 'shrub_density_3km'\n",
       "12. 'Curing'\n",
       "\n",
       "\n"
      ],
      "text/plain": [
       " [1] \"T_SFC\"                  \"T_SFC_ishistorical\"     \"RH_SFC\"                \n",
       " [4] \"WindMagKmh_SFC\"         \"KBDI\"                   \"ruggedness_average_3km\"\n",
       " [7] \"building_density_3km\"   \"road_density_km_in_3km\" \"road_distance_m\"       \n",
       "[10] \"forest_density_3km\"     \"shrub_density_3km\"      \"Curing\"                "
      ]
     },
     "metadata": {},
     "output_type": "display_data"
    },
    {
     "data": {
      "image/png": "[encoded data removed]",
      "text/plain": [
       "plot without title"
      ]
     },
     "metadata": {
      "image/png": {
       "height": 420,
       "width": 420
      }
     },
     "output_type": "display_data"
    }
   ],
   "source": [
    "fit_adaptive_lasso(grass_incidents[grass_features], grass_incidents$uncontrolled_within_2_hrs)"
   ]
  },
  {
   "cell_type": "code",
   "execution_count": 17,
   "id": "00474e4f-0d99-488c-9dd7-63bdebb968a6",
   "metadata": {},
   "outputs": [
    {
     "data": {
      "text/html": [
       "<style>\n",
       ".list-inline {list-style: none; margin:0; padding: 0}\n",
       ".list-inline>li {display: inline-block}\n",
       ".list-inline>li:not(:last-child)::after {content: \"\\00b7\"; padding: 0 .5ex}\n",
       "</style>\n",
       "<ol class=list-inline><li>'T_SFC'</li><li>'DF_SFC'</li><li>'WindMagKmh_SFC'</li><li>'ruggedness_average_3km'</li><li>'building_density_20km'</li><li>'road_density_km_in_3km'</li><li>'road_distance_m'</li><li>'shrub_density_3km'</li><li>'noveg_density_3km'</li><li>'distance_to_interface'</li><li>'Curing'</li></ol>\n"
      ],
      "text/latex": [
       "\\begin{enumerate*}\n",
       "\\item 'T\\_SFC'\n",
       "\\item 'DF\\_SFC'\n",
       "\\item 'WindMagKmh\\_SFC'\n",
       "\\item 'ruggedness\\_average\\_3km'\n",
       "\\item 'building\\_density\\_20km'\n",
       "\\item 'road\\_density\\_km\\_in\\_3km'\n",
       "\\item 'road\\_distance\\_m'\n",
       "\\item 'shrub\\_density\\_3km'\n",
       "\\item 'noveg\\_density\\_3km'\n",
       "\\item 'distance\\_to\\_interface'\n",
       "\\item 'Curing'\n",
       "\\end{enumerate*}\n"
      ],
      "text/markdown": [
       "1. 'T_SFC'\n",
       "2. 'DF_SFC'\n",
       "3. 'WindMagKmh_SFC'\n",
       "4. 'ruggedness_average_3km'\n",
       "5. 'building_density_20km'\n",
       "6. 'road_density_km_in_3km'\n",
       "7. 'road_distance_m'\n",
       "8. 'shrub_density_3km'\n",
       "9. 'noveg_density_3km'\n",
       "10. 'distance_to_interface'\n",
       "11. 'Curing'\n",
       "\n",
       "\n"
      ],
      "text/plain": [
       " [1] \"T_SFC\"                  \"DF_SFC\"                 \"WindMagKmh_SFC\"        \n",
       " [4] \"ruggedness_average_3km\" \"building_density_20km\"  \"road_density_km_in_3km\"\n",
       " [7] \"road_distance_m\"        \"shrub_density_3km\"      \"noveg_density_3km\"     \n",
       "[10] \"distance_to_interface\"  \"Curing\"                "
      ]
     },
     "metadata": {},
     "output_type": "display_data"
    },
    {
     "data": {
      "image/png": "[encoded data removed]",
      "text/plain": [
       "plot without title"
      ]
     },
     "metadata": {
      "image/png": {
       "height": 420,
       "width": 420
      }
     },
     "output_type": "display_data"
    }
   ],
   "source": [
    "fit_adaptive_lasso(grass_incidents[grass_features], grass_incidents$uncontrolled_within_100_ha)"
   ]
  },
  {
   "cell_type": "code",
   "execution_count": 20,
   "id": "1df2c8c4-18f0-4e35-a06f-7c117c40c4cc",
   "metadata": {
    "scrolled": true
   },
   "outputs": [
    {
     "data": {
      "text/html": [
       "<style>\n",
       ".list-inline {list-style: none; margin:0; padding: 0}\n",
       ".list-inline>li {display: inline-block}\n",
       ".list-inline>li:not(:last-child)::after {content: \"\\00b7\"; padding: 0 .5ex}\n",
       "</style>\n",
       "<ol class=list-inline><li>'T_SFC'</li><li>'RH_SFC'</li><li>'DF_SFC'</li><li>'elevation_m'</li><li>'road_density_km_in_3km'</li><li>'road_distance_m'</li><li>'grass_density_3km'</li><li>'shrub_density_3km'</li><li>'noveg_density_3km'</li><li>'distance_to_interface'</li></ol>\n"
      ],
      "text/latex": [
       "\\begin{enumerate*}\n",
       "\\item 'T\\_SFC'\n",
       "\\item 'RH\\_SFC'\n",
       "\\item 'DF\\_SFC'\n",
       "\\item 'elevation\\_m'\n",
       "\\item 'road\\_density\\_km\\_in\\_3km'\n",
       "\\item 'road\\_distance\\_m'\n",
       "\\item 'grass\\_density\\_3km'\n",
       "\\item 'shrub\\_density\\_3km'\n",
       "\\item 'noveg\\_density\\_3km'\n",
       "\\item 'distance\\_to\\_interface'\n",
       "\\end{enumerate*}\n"
      ],
      "text/markdown": [
       "1. 'T_SFC'\n",
       "2. 'RH_SFC'\n",
       "3. 'DF_SFC'\n",
       "4. 'elevation_m'\n",
       "5. 'road_density_km_in_3km'\n",
       "6. 'road_distance_m'\n",
       "7. 'grass_density_3km'\n",
       "8. 'shrub_density_3km'\n",
       "9. 'noveg_density_3km'\n",
       "10. 'distance_to_interface'\n",
       "\n",
       "\n"
      ],
      "text/plain": [
       " [1] \"T_SFC\"                  \"RH_SFC\"                 \"DF_SFC\"                \n",
       " [4] \"elevation_m\"            \"road_density_km_in_3km\" \"road_distance_m\"       \n",
       " [7] \"grass_density_3km\"      \"shrub_density_3km\"      \"noveg_density_3km\"     \n",
       "[10] \"distance_to_interface\" "
      ]
     },
     "metadata": {},
     "output_type": "display_data"
    },
    {
     "data": {
      "image/png": "[encoded data removed]",
      "text/plain": [
       "plot without title"
      ]
     },
     "metadata": {
      "image/png": {
       "height": 420,
       "width": 420
      }
     },
     "output_type": "display_data"
    }
   ],
   "source": [
    "fit_adaptive_lasso(forest_incidents[forest_features], forest_incidents$uncontrolled_within_4_hrs)"
   ]
  },
  {
   "cell_type": "code",
   "execution_count": 19,
   "id": "2df171ce-8e23-4655-912d-d0cb9173bec6",
   "metadata": {},
   "outputs": [
    {
     "data": {
      "text/html": [
       "<style>\n",
       ".list-inline {list-style: none; margin:0; padding: 0}\n",
       ".list-inline>li {display: inline-block}\n",
       ".list-inline>li:not(:last-child)::after {content: \"\\00b7\"; padding: 0 .5ex}\n",
       "</style>\n",
       "<ol class=list-inline><li>'T_SFC'</li><li>'RH_SFC'</li><li>'DF_SFC'</li><li>'WindMagKmh_SFC'</li><li>'road_density_km_in_3km'</li><li>'road_distance_m'</li><li>'grass_density_3km'</li><li>'noveg_density_3km'</li><li>'distance_to_interface'</li><li>'soil_moisture'</li></ol>\n"
      ],
      "text/latex": [
       "\\begin{enumerate*}\n",
       "\\item 'T\\_SFC'\n",
       "\\item 'RH\\_SFC'\n",
       "\\item 'DF\\_SFC'\n",
       "\\item 'WindMagKmh\\_SFC'\n",
       "\\item 'road\\_density\\_km\\_in\\_3km'\n",
       "\\item 'road\\_distance\\_m'\n",
       "\\item 'grass\\_density\\_3km'\n",
       "\\item 'noveg\\_density\\_3km'\n",
       "\\item 'distance\\_to\\_interface'\n",
       "\\item 'soil\\_moisture'\n",
       "\\end{enumerate*}\n"
      ],
      "text/markdown": [
       "1. 'T_SFC'\n",
       "2. 'RH_SFC'\n",
       "3. 'DF_SFC'\n",
       "4. 'WindMagKmh_SFC'\n",
       "5. 'road_density_km_in_3km'\n",
       "6. 'road_distance_m'\n",
       "7. 'grass_density_3km'\n",
       "8. 'noveg_density_3km'\n",
       "9. 'distance_to_interface'\n",
       "10. 'soil_moisture'\n",
       "\n",
       "\n"
      ],
      "text/plain": [
       " [1] \"T_SFC\"                  \"RH_SFC\"                 \"DF_SFC\"                \n",
       " [4] \"WindMagKmh_SFC\"         \"road_density_km_in_3km\" \"road_distance_m\"       \n",
       " [7] \"grass_density_3km\"      \"noveg_density_3km\"      \"distance_to_interface\" \n",
       "[10] \"soil_moisture\"         "
      ]
     },
     "metadata": {},
     "output_type": "display_data"
    },
    {
     "data": {
      "image/png": "[encoded data removed]",
      "text/plain": [
       "plot without title"
      ]
     },
     "metadata": {
      "image/png": {
       "height": 420,
       "width": 420
      }
     },
     "output_type": "display_data"
    }
   ],
   "source": [
    "fit_adaptive_lasso(forest_incidents[forest_features], forest_incidents$uncontrolled_within_5_ha)"
   ]
  },
  {
   "cell_type": "markdown",
   "id": "f1175c1d-505a-4551-b26f-c11c6a825319",
   "metadata": {},
   "source": [
    "The variables selected for each model in this code have been manually entered into the `logistic_regression` notebook."
   ]
  }
 ],
 "metadata": {
  "kernelspec": {
   "display_name": "R",
   "language": "R",
   "name": "ir"
  },
  "language_info": {
   "codemirror_mode": "r",
   "file_extension": ".r",
   "mimetype": "text/x-r-source",
   "name": "R",
   "pygments_lexer": "r",
   "version": "4.4.1"
  }
 },
 "nbformat": 4,
 "nbformat_minor": 5
}
