{
 "cells": [
  {
   "cell_type": "code",
   "execution_count": null,
   "metadata": {
    "application/vnd.databricks.v1+cell": {
     "cellMetadata": {
      "byteLimit": 2048000,
      "rowLimit": 10000
     },
     "inputWidgets": {},
     "nuid": "555d9efb-5ab8-4021-b99f-07a32eb63a09",
     "showTitle": false,
     "tableResultSettingsMap": {},
     "title": ""
    }
   },
   "outputs": [],
   "source": [
    "# Refresh input modules when they change\n",
    "%load_ext autoreload\n",
    "%autoreload 2"
   ]
  },
  {
   "cell_type": "code",
   "execution_count": null,
   "metadata": {
    "application/vnd.databricks.v1+cell": {
     "cellMetadata": {
      "byteLimit": 2048000,
      "rowLimit": 10000
     },
     "inputWidgets": {},
     "nuid": "b8b7f2c8-0291-4c6e-b18d-d266f7515e5d",
     "showTitle": false,
     "tableResultSettingsMap": {},
     "title": ""
    }
   },
   "outputs": [],
   "source": [
    "# Import Python packages\n",
    "import pandas as pd\n",
    "\n",
    "import numpy as np\n",
    "import matplotlib.pyplot as plt\n",
    "import seaborn as sns\n",
    "\n",
    "from datetime import datetime as dt\n",
    "from datetime import timedelta\n",
    "from matplotlib.dates import DateFormatter\n",
    "\n",
    "\n",
    "\n",
    "\n",
    "# Import setup file\n",
    "from base_include import *\n",
    "from get_model_data import *\n",
    "from modelling_functions import *"
   ]
  },
  {
   "cell_type": "markdown",
   "metadata": {
    "application/vnd.databricks.v1+cell": {
     "cellMetadata": {
      "byteLimit": 2048000,
      "rowLimit": 10000
     },
     "inputWidgets": {},
     "nuid": "9fdeff64-b217-4a56-91ff-bd5b79ce5c8b",
     "showTitle": false,
     "tableResultSettingsMap": {},
     "title": ""
    }
   },
   "source": [
    "## Modelling\n",
    "Retrain all the models using all data."
   ]
  },
  {
   "cell_type": "code",
   "execution_count": null,
   "metadata": {
    "application/vnd.databricks.v1+cell": {
     "cellMetadata": {
      "byteLimit": 2048000,
      "rowLimit": 10000
     },
     "inputWidgets": {},
     "nuid": "d1d129b9-bf1c-4dde-bdde-1d45c6abba31",
     "showTitle": false,
     "tableResultSettingsMap": {},
     "title": ""
    }
   },
   "outputs": [],
   "source": [
    "# Set up a dictionary for all four models (grass, grass fdi, forest, forest fdi)\n",
    "grass_incidents['is_train_data'] = 1\n",
    "forest_incidents['is_train_data'] = 1\n",
    "# features selected in variable_selection notebook\n",
    "grass_2_hrs_features = ['T_SFC', 'T_SFC_ishistorical', 'RH_SFC', 'WindMagKmh_SFC', 'KBDI', 'ruggedness_average_3km', 'building_density_3km', 'road_density_km_in_3km', 'road_distance_m', 'forest_density_3km', 'shrub_density_3km', 'soil_moisture', 'Curing']\n",
    "forest_4_hrs_features = ['T_SFC', 'KBDI', 'elevation_m', 'road_density_km_in_3km', 'road_distance_m', 'grass_density_3km', 'shrub_density_3km', 'noveg_density_3km', 'distance_to_interface', 'Curing']\n",
    "grass_2_hrs_transform_features = ['ruggedness_average_3km', 'building_density_3km', 'road_density_km_in_3km', 'road_distance_m', 'shrub_density_3km', 'soil_moisture']\n",
    "forest_4_hrs_transform_features = ['road_density_km_in_3km', 'road_distance_m', 'noveg_density_3km', 'distance_to_interface']\n",
    "\n",
    "models = {\n",
    "    'grass': {\n",
    "        'incidents':grass_incidents,\n",
    "        'outcome':'uncontrolled_within_2_hrs',\n",
    "        'model_features':grass_2_hrs_features,\n",
    "        'transform_features': grass_2_hrs_transform_features,\n",
    "        'transforms':{key: 'np.log1p' for key in grass_2_hrs_transform_features},\n",
    "    },\n",
    "    'grass_fdi': {\n",
    "        'incidents':grass_incidents.dropna(subset='GFDI'),\n",
    "        'outcome':'uncontrolled_within_2_hrs',\n",
    "        'model_features':['GFDI'],\n",
    "        'transforms':{},\n",
    "    },\n",
    "    'forest': {\n",
    "        'incidents':forest_incidents,\n",
    "        'outcome':'uncontrolled_within_4_hrs',\n",
    "        'model_features':forest_4_hrs_features,\n",
    "        'transform_features': forest_4_hrs_transform_features,\n",
    "        'transforms':{key: 'np.log1p' for key in forest_4_hrs_transform_features},\n",
    "    },\n",
    "    'forest_fdi': {\n",
    "        'incidents':forest_incidents,\n",
    "        'outcome':'uncontrolled_within_4_hrs',\n",
    "        'model_features':['FFDI'],\n",
    "        'transforms':{},\n",
    "    },\n",
    "}\n",
    "\n",
    "\n"
   ]
  },
  {
   "cell_type": "code",
   "execution_count": null,
   "metadata": {
    "application/vnd.databricks.v1+cell": {
     "cellMetadata": {
      "byteLimit": 2048000,
      "rowLimit": 10000
     },
     "inputWidgets": {},
     "nuid": "ac9720dd-d304-4678-bc20-6ca46369835b",
     "showTitle": false,
     "tableResultSettingsMap": {},
     "title": ""
    }
   },
   "outputs": [],
   "source": [
    "# Build all the models and store the output in the dictionary.\n",
    "for model in models.keys():\n",
    "    print('Model {} '.format(model))\n",
    "    models[model]['fit'] = fit_logistic_regression(\n",
    "        models[model]['incidents'],\n",
    "        models[model]['outcome'],\n",
    "        model_features=models[model]['model_features'],\n",
    "        transform=models[model]['transforms']\n",
    "    )\n",
    "    get_model_diagnostics(\n",
    "        rslt = models[model]['fit'][0],\n",
    "        incidents_train = models[model]['fit'][1],\n",
    "        incidents_test = models[model]['fit'][1],\n",
    "        outcome = models[model]['outcome'],\n",
    "        print_diagnostics=True, \n",
    "        print_confusion_matrix=True\n",
    "        )"
   ]
  },
  {
   "cell_type": "markdown",
   "metadata": {
    "application/vnd.databricks.v1+cell": {
     "cellMetadata": {
      "byteLimit": 2048000,
      "rowLimit": 10000
     },
     "inputWidgets": {},
     "nuid": "c08a4e95-fb37-4b5e-935f-9591e7948a6d",
     "showTitle": false,
     "tableResultSettingsMap": {},
     "title": ""
    }
   },
   "source": [
    "# Case studies\n"
   ]
  },
  {
   "cell_type": "markdown",
   "metadata": {
    "application/vnd.databricks.v1+cell": {
     "cellMetadata": {
      "byteLimit": 2048000,
      "rowLimit": 10000
     },
     "inputWidgets": {},
     "nuid": "d551e670-f0da-4fff-ba06-2e92591733b6",
     "showTitle": false,
     "tableResultSettingsMap": {},
     "title": ""
    }
   },
   "source": [
    "### Define days"
   ]
  },
  {
   "cell_type": "code",
   "execution_count": null,
   "metadata": {
    "application/vnd.databricks.v1+cell": {
     "cellMetadata": {
      "byteLimit": 2048000,
      "rowLimit": 10000
     },
     "inputWidgets": {},
     "nuid": "8b8383e9-58de-4d6b-9e7d-f901a11546f7",
     "showTitle": false,
     "tableResultSettingsMap": {},
     "title": ""
    }
   },
   "outputs": [],
   "source": [
    "# Make the test data just the days required (which are the rows with data in the date column).\n",
    "for model in models.keys():\n",
    "    models[model]['fit'] = list(models[model]['fit']) \n",
    "    incidents_test = models[model]['fit'][1].copy()\n",
    "    incidents_test = incidents_test.dropna(subset='date')\n",
    "    models[model]['fit'][2] = incidents_test\n"
   ]
  },
  {
   "cell_type": "code",
   "execution_count": null,
   "metadata": {
    "application/vnd.databricks.v1+cell": {
     "cellMetadata": {
      "byteLimit": 2048000,
      "rowLimit": 10000
     },
     "inputWidgets": {},
     "nuid": "ba64b2fc-ca40-4450-a81f-810cd2e64ce7",
     "showTitle": false,
     "tableResultSettingsMap": {},
     "title": ""
    }
   },
   "outputs": [],
   "source": [
    "# Create a combined dataset\n",
    "for model in ['grass', 'forest']:\n",
    "    outcome = models[model]['outcome']\n",
    "    test_data = models[model]['fit'][2].copy()\n",
    "    test_data['outcome_p'] = test_data[outcome+'_p']\n",
    "    test_data['outcome'] = test_data[outcome]\n",
    "    \n",
    "    if model == 'grass':\n",
    "        test_data_combined = test_data.copy()\n",
    "    else:\n",
    "        test_data_combined = pd.concat([test_data_combined, test_data])\n",
    "\n",
    "\n",
    "test_data_combined['primary_fuel_type'] = test_data_combined['primary_fuel_type'].cat.remove_categories(['shrub', 'noveg'])"
   ]
  },
  {
   "cell_type": "markdown",
   "metadata": {
    "application/vnd.databricks.v1+cell": {
     "cellMetadata": {
      "byteLimit": 2048000,
      "rowLimit": 10000
     },
     "inputWidgets": {},
     "nuid": "075ba9f3-ab5e-4bbb-8137-9f972256ed65",
     "showTitle": false,
     "tableResultSettingsMap": {},
     "title": ""
    }
   },
   "source": [
    "### Plots for paper"
   ]
  },
  {
   "cell_type": "code",
   "execution_count": null,
   "metadata": {},
   "outputs": [],
   "source": [
    "annotations = {\n",
    "    pd.Timestamp(dt(2009, 2, 7, 15, 32, 14)): '1',\n",
    "    pd.Timestamp(dt(2009, 2, 7, 16, 35, 0)): '2',\n",
    "    pd.Timestamp(dt(2009, 2, 7, 18, 5, 0)): '3',\n",
    "    pd.Timestamp(dt(2009, 2, 7, 19, 30, 0)): '4',\n",
    "    pd.Timestamp(dt(2018, 3, 17, 21, 21, 29)): '5',\n",
    "    pd.Timestamp(dt(2019, 11, 21, 10, 0, 0)): '6',\n",
    "    pd.Timestamp(dt(2019, 11, 21, 12, 32, 0)): '7',\n",
    "    pd.Timestamp(dt(2019, 11, 21, 13, 0, 59)): '8',\n",
    "    pd.Timestamp(dt(2019, 11, 21, 15, 18, 9)): '9',\n",
    "    pd.Timestamp(dt(2019, 11, 21, 18, 33, 0)): '10',\n",
    "    pd.Timestamp(dt(2023, 2, 17, 15, 23, 0)): '11',\n",
    "    pd.Timestamp(dt(2023, 2, 17, 15, 28, 1)): '12',\n",
    "    pd.Timestamp(dt(2023, 2, 17, 18, 19, 45)): '13',\n",
    "}\n",
    "\n",
    "test_data_combined['annotation'] = np.nan\n",
    "test_data_combined['annotation'] = test_data_combined['reported_time'].map(annotations)"
   ]
  },
  {
   "cell_type": "code",
   "execution_count": null,
   "metadata": {
    "application/vnd.databricks.v1+cell": {
     "cellMetadata": {
      "byteLimit": 2048000,
      "rowLimit": 10000
     },
     "inputWidgets": {},
     "nuid": "b1c292b4-a669-4dbe-93b4-0fd810acceb7",
     "showTitle": false,
     "tableResultSettingsMap": {},
     "title": ""
    }
   },
   "outputs": [],
   "source": [
    "# Days for case studies\n",
    "days = incidents[\"date\"].dropna().unique()\n",
    "# Set up plot\n",
    "fig, axs = plt.subplot_mosaic([['(a)', '(b)'], ['(c)', '(d)']], figsize=(12, 8), tight_layout=True, sharey=True)\n",
    "date_ix=0\n",
    "for i in ['(a)', '(b)', '(c)', '(d)']:\n",
    "    day = days[date_ix]\n",
    "    date_ix = date_ix + 1\n",
    "    \n",
    "    data = test_data_combined[test_data_combined['date']==day]\n",
    "    data = (data\n",
    "            .assign(**{'Ground truth': data['outcome'].map({1: 'uncontrolled', 0: 'controlled'}),\n",
    "                        'Primary fuel type': data['primary_fuel_type']})\n",
    "            .sort_values('outcome'))\n",
    "    axs[i].xaxis.set_major_formatter(DateFormatter(\"%H:%M\"))\n",
    "    axs[i].set_title('{} {} - Initial attack model predictions'.format(i, day.strftime('%d %b %Y')), loc='left')\n",
    "    axs[i].set_xlim(dt.combine(day, dt(1990,1,1,0,0,0).time()), dt.combine(day+timedelta(days=1), dt(1990,1,1,0,0,0).time()))\n",
    "\n",
    "    # Add points\n",
    "    sns.scatterplot(data = data, x='reported_time', y='outcome_p', style='Primary fuel type', markers=['o', 's'], hue='Ground truth', ax=axs[i], s=100)\n",
    "    \n",
    "    # Add annotations\n",
    "    a_data = data[~(data['annotation'].isna())]\n",
    "    sns.scatterplot(data = a_data, x='reported_time', y='outcome_p', style='Primary fuel type', \n",
    "                    markers=['o', 's'], ax=axs[i], edgecolors='black', linewidth=1, legend=False, s=100, facecolors='none')\n",
    "    for xi, yi, text in zip(a_data['reported_time'], a_data['outcome_p'], a_data['annotation']):\n",
    "        axs[i].annotate(text,\n",
    "            xy=(xi, yi), xycoords='data',\n",
    "            xytext=(6, 6), textcoords='offset points')\n",
    "\n",
    "\n",
    "    axs[i].set_xlabel(\"Reported time of fire\", fontsize=10)\n",
    "    axs[i].set_ylabel(\"Probability of being uncontrolled\", fontsize=10)"
   ]
  },
  {
   "cell_type": "markdown",
   "metadata": {
    "application/vnd.databricks.v1+cell": {
     "cellMetadata": {
      "byteLimit": 2048000,
      "rowLimit": 10000
     },
     "inputWidgets": {},
     "nuid": "b0b89d42-55f5-4269-905b-5509683395c0",
     "showTitle": false,
     "tableResultSettingsMap": {},
     "title": ""
    }
   },
   "source": []
  }
 ],
 "metadata": {
  "application/vnd.databricks.v1+notebook": {
   "computePreferences": null,
   "dashboards": [],
   "environmentMetadata": null,
   "language": "python",
   "notebookMetadata": {
    "pythonIndentUnit": 4
   },
   "notebookName": "case_studies",
   "widgets": {}
  },
  "kernelspec": {
   "display_name": ".venv",
   "language": "python",
   "name": "python3"
  },
  "language_info": {
   "codemirror_mode": {
    "name": "ipython",
    "version": 3
   },
   "file_extension": ".py",
   "mimetype": "text/x-python",
   "name": "python",
   "nbconvert_exporter": "python",
   "pygments_lexer": "ipython3",
   "version": "3.10.0"
  }
 },
 "nbformat": 4,
 "nbformat_minor": 0
}
